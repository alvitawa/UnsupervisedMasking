{
 "cells": [
  {
   "cell_type": "code",
   "execution_count": 20,
   "metadata": {
    "collapsed": true
   },
   "outputs": [
    {
     "name": "stdout",
     "output_type": "stream",
     "text": [
      "83\n",
      "[497 493 490 467 462 456 453 440 434 433 381 340 263 198 164 143 136 103\n",
      " 100  79  70  59  57  52  40  40  38  27  27  25  25  21  20  14  14  14\n",
      "  12  12  11  10  10  10   8   8   7   7   7   7   7   5   5   5   5   5\n",
      "   5   4   4   4   4   3   3   3   3   2   2   2   2   2   2   1   1   1\n",
      "   1   1   1   1   1   1   1   1   1   1   1]\n",
      "[0.06831615 0.13608247 0.20343643 0.26762887 0.33113402 0.39381443\n",
      " 0.45608247 0.51656357 0.57621993 0.63573883 0.68810997 0.73484536\n",
      " 0.77099656 0.79821306 0.82075601 0.84041237 0.85910653 0.8732646\n",
      " 0.88701031 0.89786942 0.90749141 0.91560137 0.92343643 0.93058419\n",
      " 0.93608247 0.94158076 0.94680412 0.95051546 0.9542268  0.95766323\n",
      " 0.96109966 0.96398625 0.9667354  0.96865979 0.97058419 0.97250859\n",
      " 0.97415808 0.97580756 0.97731959 0.97869416 0.98006873 0.9814433\n",
      " 0.98254296 0.98364261 0.98460481 0.98556701 0.98652921 0.98749141\n",
      " 0.98845361 0.98914089 0.98982818 0.99051546 0.99120275 0.99189003\n",
      " 0.99257732 0.99312715 0.99367698 0.9942268  0.99477663 0.995189\n",
      " 0.99560137 0.99601375 0.99642612 0.99670103 0.99697595 0.99725086\n",
      " 0.99752577 0.99780069 0.9980756  0.99821306 0.99835052 0.99848797\n",
      " 0.99862543 0.99876289 0.99890034 0.9990378  0.99917526 0.99931271\n",
      " 0.99945017 0.99958763 0.99972509 0.99986254 1.        ]\n"
     ]
    }
   ],
   "source": [
    "import io\n",
    "import pickle\n",
    "\n",
    "import matplotlib.pyplot as plt\n",
    "import numpy as np\n",
    "import torch\n",
    "from pathlib import Path\n",
    "%matplotlib inline\n",
    "\n",
    "class CPU_Unpickler(pickle.Unpickler):\n",
    "    def find_class(self, module, name):\n",
    "        if module == 'torch.storage' and name == '_load_from_bytes':\n",
    "            return lambda b: torch.load(io.BytesIO(b), map_location='cpu')\n",
    "        else: return super().find_class(module, name)\n",
    "\n",
    "cluster_assignments = torch.load('output_clusters_gm_c20.pt')\n",
    "\n",
    "run_id = 'SUB-928'\n",
    "path = Path('../data/models/checkpoints', run_id, 'embeddings.pkl')\n",
    "\n",
    "# feature_bank, feature_labels, embedding, targets, label_names = pickle.load(open('embeds_379-cifar100.pkl', 'rb'))\n",
    "# feature_bank, feature_labels, embedding, targets, label_names = pickle.load(open('embeds_379.pkl', 'rb'))\n",
    "# feature_bank, feature_labels, embedding, targets, label_names = pickle.load(open('embeds_819.pkl', 'rb'))\n",
    "# feature_bank, feature_labels, embedding, targets, label_names = pickle.load(open('embeds_820.pkl', 'rb'))\n",
    "feature_bank, feature_labels, embedding, targets, label_names = CPU_Unpickler(open(path, 'rb')).load()\n",
    "\n",
    "subset = feature_labels[cluster_assignments == 1]\n",
    "\n",
    "u, c = np.unique(subset, return_counts=True)\n",
    "print(len(u))\n",
    "cs = np.sort(c)[::-1]\n",
    "print(cs)\n",
    "csc = np.cumsum(cs) / np.sum(cs)\n",
    "print(csc)"
   ]
  },
  {
   "cell_type": "code",
   "execution_count": 22,
   "outputs": [
    {
     "name": "stdout",
     "output_type": "stream",
     "text": [
      "Cluster 0: 14535 samples\n",
      "Cluster 1: 7275 samples\n",
      "Cluster 2: 7907 samples\n",
      "Cluster 3: 12123 samples\n",
      "Cluster 4: 8160 samples\n"
     ]
    }
   ],
   "source": [
    "# Assuming A_kl contains the cluster labels\n",
    "unique_labels, counts = np.unique(cluster_assignments, return_counts=True)\n",
    "\n",
    "# Print the number of samples per cluster\n",
    "for label, count in zip(unique_labels, counts):\n",
    "    print(f\"Cluster {label}: {count} samples\")"
   ],
   "metadata": {
    "collapsed": false
   }
  },
  {
   "cell_type": "code",
   "execution_count": 21,
   "outputs": [
    {
     "data": {
      "text/plain": "[<matplotlib.lines.Line2D at 0x7f9560b96a60>]"
     },
     "execution_count": 21,
     "metadata": {},
     "output_type": "execute_result"
    },
    {
     "data": {
      "text/plain": "<Figure size 640x480 with 1 Axes>",
      "image/png": "[encoded data removed]"
     },
     "metadata": {},
     "output_type": "display_data"
    }
   ],
   "source": [
    "plt.plot(csc)"
   ],
   "metadata": {
    "collapsed": false
   }
  }
 ],
 "metadata": {
  "kernelspec": {
   "display_name": "Python 3",
   "language": "python",
   "name": "python3"
  },
  "language_info": {
   "codemirror_mode": {
    "name": "ipython",
    "version": 2
   },
   "file_extension": ".py",
   "mimetype": "text/x-python",
   "name": "python",
   "nbconvert_exporter": "python",
   "pygments_lexer": "ipython2",
   "version": "2.7.6"
  }
 },
 "nbformat": 4,
 "nbformat_minor": 0
}
