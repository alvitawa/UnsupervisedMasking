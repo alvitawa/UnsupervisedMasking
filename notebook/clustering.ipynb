{
 "cells": [
  {
   "cell_type": "code",
   "execution_count": 1,
   "outputs": [],
   "source": [
    "import io\n",
    "from pathlib import Path\n",
    "import pickle\n",
    "\n",
    "import matplotlib.pyplot as plt\n",
    "\n",
    "import torch\n",
    "%matplotlib inline\n",
    "\n",
    "class CPU_Unpickler(pickle.Unpickler):\n",
    "    def find_class(self, module, name):\n",
    "        if module == 'torch.storage' and name == '_load_from_bytes':\n",
    "            return lambda b: torch.load(io.BytesIO(b), map_location='cpu')\n",
    "        else: return super().find_class(module, name)\n",
    "\n",
    "run_id = 'SUB-849'\n",
    "path = Path('../data/models/checkpoints', run_id, 'embeddings.pkl')\n",
    "\n",
    "# feature_bank, feature_labels, embedding, targets, label_names = pickle.load(open('embeds_379-cifar100.pkl', 'rb'))\n",
    "# feature_bank, feature_labels, embedding, targets, label_names = pickle.load(open('embeds_379.pkl', 'rb'))\n",
    "# feature_bank, feature_labels, embedding, targets, label_names = pickle.load(open('embeds_819.pkl', 'rb'))\n",
    "# feature_bank, feature_labels, embedding, targets, label_names = pickle.load(open('embeds_820.pkl', 'rb'))\n",
    "feature_bank, feature_labels, embedding, targets, label_names = CPU_Unpickler(open(path, 'rb')).load()\n",
    "\n",
    "# pickle.dump((feature_bank, feature_labels, embedding, targets, self.dataset['train'].label_names), open('embeds_820.pkl' , 'wb'))"
   ],
   "metadata": {
    "collapsed": false
   }
  },
  {
   "cell_type": "code",
   "execution_count": 2,
   "outputs": [
    {
     "name": "stdout",
     "output_type": "stream",
     "text": [
      "torch.Size([2048, 50000])\n"
     ]
    }
   ],
   "source": [
    "print(feature_bank.shape)\n",
    "\n",
    "A = feature_bank.T\n",
    "U, S, V = torch.pca_lowrank(A, q=50, center=True, niter=2)\n",
    "X = U.cpu().numpy()\n",
    "y = feature_labels.cpu().numpy()"
   ],
   "metadata": {
    "collapsed": false
   }
  },
  {
   "cell_type": "code",
   "execution_count": 3,
   "outputs": [],
   "source": [
    "import numpy as np\n",
    "\n",
    "E = ((embedding - A.mean(axis=0)) @ V @ torch.diag(1 / S)).cpu().numpy()\n",
    "Ey = targets.cpu().numpy()\n",
    "\n",
    "XE = np.concatenate((X, E))"
   ],
   "metadata": {
    "collapsed": false
   }
  },
  {
   "cell_type": "code",
   "execution_count": 4,
   "outputs": [
    {
     "name": "stderr",
     "output_type": "stream",
     "text": [
      "/home/ook/anaconda3/lib/python3.9/site-packages/sklearn/manifold/_t_sne.py:780: FutureWarning: The default initialization in TSNE will change from 'random' to 'pca' in 1.2.\n",
      "  warnings.warn(\n",
      "/home/ook/anaconda3/lib/python3.9/site-packages/sklearn/manifold/_t_sne.py:790: FutureWarning: The default learning rate in TSNE will change from 200.0 to 'auto' in 1.2.\n",
      "  warnings.warn(\n"
     ]
    },
    {
     "ename": "KeyboardInterrupt",
     "evalue": "",
     "output_type": "error",
     "traceback": [
      "\u001B[0;31m---------------------------------------------------------------------------\u001B[0m",
      "\u001B[0;31mKeyboardInterrupt\u001B[0m                         Traceback (most recent call last)",
      "\u001B[0;32m/tmp/ipykernel_329616/3337104586.py\u001B[0m in \u001B[0;36m<module>\u001B[0;34m\u001B[0m\n\u001B[1;32m      4\u001B[0m \u001B[0mtsne\u001B[0m \u001B[0;34m=\u001B[0m \u001B[0mTSNE\u001B[0m\u001B[0;34m(\u001B[0m\u001B[0mn_components\u001B[0m\u001B[0;34m=\u001B[0m\u001B[0;36m2\u001B[0m\u001B[0;34m,\u001B[0m \u001B[0mrandom_state\u001B[0m\u001B[0;34m=\u001B[0m\u001B[0;36m42\u001B[0m\u001B[0;34m)\u001B[0m\u001B[0;34m\u001B[0m\u001B[0;34m\u001B[0m\u001B[0m\n\u001B[1;32m      5\u001B[0m \u001B[0mt0\u001B[0m \u001B[0;34m=\u001B[0m \u001B[0mtime\u001B[0m\u001B[0;34m.\u001B[0m\u001B[0mtime\u001B[0m\u001B[0;34m(\u001B[0m\u001B[0;34m)\u001B[0m\u001B[0;34m\u001B[0m\u001B[0;34m\u001B[0m\u001B[0m\n\u001B[0;32m----> 6\u001B[0;31m \u001B[0mXE_reduced\u001B[0m \u001B[0;34m=\u001B[0m \u001B[0mtsne\u001B[0m\u001B[0;34m.\u001B[0m\u001B[0mfit_transform\u001B[0m\u001B[0;34m(\u001B[0m\u001B[0mXE\u001B[0m\u001B[0;34m)\u001B[0m\u001B[0;34m\u001B[0m\u001B[0;34m\u001B[0m\u001B[0m\n\u001B[0m\u001B[1;32m      7\u001B[0m \u001B[0mt1\u001B[0m \u001B[0;34m=\u001B[0m \u001B[0mtime\u001B[0m\u001B[0;34m.\u001B[0m\u001B[0mtime\u001B[0m\u001B[0;34m(\u001B[0m\u001B[0;34m)\u001B[0m\u001B[0;34m\u001B[0m\u001B[0;34m\u001B[0m\u001B[0m\n\u001B[1;32m      8\u001B[0m \u001B[0;34m\u001B[0m\u001B[0m\n",
      "\u001B[0;32m~/anaconda3/lib/python3.9/site-packages/sklearn/manifold/_t_sne.py\u001B[0m in \u001B[0;36mfit_transform\u001B[0;34m(self, X, y)\u001B[0m\n\u001B[1;32m   1106\u001B[0m             \u001B[0mEmbedding\u001B[0m \u001B[0mof\u001B[0m \u001B[0mthe\u001B[0m \u001B[0mtraining\u001B[0m \u001B[0mdata\u001B[0m \u001B[0;32min\u001B[0m \u001B[0mlow\u001B[0m\u001B[0;34m-\u001B[0m\u001B[0mdimensional\u001B[0m \u001B[0mspace\u001B[0m\u001B[0;34m.\u001B[0m\u001B[0;34m\u001B[0m\u001B[0;34m\u001B[0m\u001B[0m\n\u001B[1;32m   1107\u001B[0m         \"\"\"\n\u001B[0;32m-> 1108\u001B[0;31m         \u001B[0membedding\u001B[0m \u001B[0;34m=\u001B[0m \u001B[0mself\u001B[0m\u001B[0;34m.\u001B[0m\u001B[0m_fit\u001B[0m\u001B[0;34m(\u001B[0m\u001B[0mX\u001B[0m\u001B[0;34m)\u001B[0m\u001B[0;34m\u001B[0m\u001B[0;34m\u001B[0m\u001B[0m\n\u001B[0m\u001B[1;32m   1109\u001B[0m         \u001B[0mself\u001B[0m\u001B[0;34m.\u001B[0m\u001B[0membedding_\u001B[0m \u001B[0;34m=\u001B[0m \u001B[0membedding\u001B[0m\u001B[0;34m\u001B[0m\u001B[0;34m\u001B[0m\u001B[0m\n\u001B[1;32m   1110\u001B[0m         \u001B[0;32mreturn\u001B[0m \u001B[0mself\u001B[0m\u001B[0;34m.\u001B[0m\u001B[0membedding_\u001B[0m\u001B[0;34m\u001B[0m\u001B[0;34m\u001B[0m\u001B[0m\n",
      "\u001B[0;32m~/anaconda3/lib/python3.9/site-packages/sklearn/manifold/_t_sne.py\u001B[0m in \u001B[0;36m_fit\u001B[0;34m(self, X, skip_num_points)\u001B[0m\n\u001B[1;32m   1002\u001B[0m         \u001B[0mdegrees_of_freedom\u001B[0m \u001B[0;34m=\u001B[0m \u001B[0mmax\u001B[0m\u001B[0;34m(\u001B[0m\u001B[0mself\u001B[0m\u001B[0;34m.\u001B[0m\u001B[0mn_components\u001B[0m \u001B[0;34m-\u001B[0m \u001B[0;36m1\u001B[0m\u001B[0;34m,\u001B[0m \u001B[0;36m1\u001B[0m\u001B[0;34m)\u001B[0m\u001B[0;34m\u001B[0m\u001B[0;34m\u001B[0m\u001B[0m\n\u001B[1;32m   1003\u001B[0m \u001B[0;34m\u001B[0m\u001B[0m\n\u001B[0;32m-> 1004\u001B[0;31m         return self._tsne(\n\u001B[0m\u001B[1;32m   1005\u001B[0m             \u001B[0mP\u001B[0m\u001B[0;34m,\u001B[0m\u001B[0;34m\u001B[0m\u001B[0;34m\u001B[0m\u001B[0m\n\u001B[1;32m   1006\u001B[0m             \u001B[0mdegrees_of_freedom\u001B[0m\u001B[0;34m,\u001B[0m\u001B[0;34m\u001B[0m\u001B[0;34m\u001B[0m\u001B[0m\n",
      "\u001B[0;32m~/anaconda3/lib/python3.9/site-packages/sklearn/manifold/_t_sne.py\u001B[0m in \u001B[0;36m_tsne\u001B[0;34m(self, P, degrees_of_freedom, n_samples, X_embedded, neighbors, skip_num_points)\u001B[0m\n\u001B[1;32m   1070\u001B[0m             \u001B[0mopt_args\u001B[0m\u001B[0;34m[\u001B[0m\u001B[0;34m\"momentum\"\u001B[0m\u001B[0;34m]\u001B[0m \u001B[0;34m=\u001B[0m \u001B[0;36m0.8\u001B[0m\u001B[0;34m\u001B[0m\u001B[0;34m\u001B[0m\u001B[0m\n\u001B[1;32m   1071\u001B[0m             \u001B[0mopt_args\u001B[0m\u001B[0;34m[\u001B[0m\u001B[0;34m\"n_iter_without_progress\"\u001B[0m\u001B[0;34m]\u001B[0m \u001B[0;34m=\u001B[0m \u001B[0mself\u001B[0m\u001B[0;34m.\u001B[0m\u001B[0mn_iter_without_progress\u001B[0m\u001B[0;34m\u001B[0m\u001B[0;34m\u001B[0m\u001B[0m\n\u001B[0;32m-> 1072\u001B[0;31m             \u001B[0mparams\u001B[0m\u001B[0;34m,\u001B[0m \u001B[0mkl_divergence\u001B[0m\u001B[0;34m,\u001B[0m \u001B[0mit\u001B[0m \u001B[0;34m=\u001B[0m \u001B[0m_gradient_descent\u001B[0m\u001B[0;34m(\u001B[0m\u001B[0mobj_func\u001B[0m\u001B[0;34m,\u001B[0m \u001B[0mparams\u001B[0m\u001B[0;34m,\u001B[0m \u001B[0;34m**\u001B[0m\u001B[0mopt_args\u001B[0m\u001B[0;34m)\u001B[0m\u001B[0;34m\u001B[0m\u001B[0;34m\u001B[0m\u001B[0m\n\u001B[0m\u001B[1;32m   1073\u001B[0m \u001B[0;34m\u001B[0m\u001B[0m\n\u001B[1;32m   1074\u001B[0m         \u001B[0;31m# Save the final number of iterations\u001B[0m\u001B[0;34m\u001B[0m\u001B[0;34m\u001B[0m\u001B[0m\n",
      "\u001B[0;32m~/anaconda3/lib/python3.9/site-packages/sklearn/manifold/_t_sne.py\u001B[0m in \u001B[0;36m_gradient_descent\u001B[0;34m(objective, p0, it, n_iter, n_iter_check, n_iter_without_progress, momentum, learning_rate, min_gain, min_grad_norm, verbose, args, kwargs)\u001B[0m\n\u001B[1;32m    396\u001B[0m         \u001B[0mkwargs\u001B[0m\u001B[0;34m[\u001B[0m\u001B[0;34m\"compute_error\"\u001B[0m\u001B[0;34m]\u001B[0m \u001B[0;34m=\u001B[0m \u001B[0mcheck_convergence\u001B[0m \u001B[0;32mor\u001B[0m \u001B[0mi\u001B[0m \u001B[0;34m==\u001B[0m \u001B[0mn_iter\u001B[0m \u001B[0;34m-\u001B[0m \u001B[0;36m1\u001B[0m\u001B[0;34m\u001B[0m\u001B[0;34m\u001B[0m\u001B[0m\n\u001B[1;32m    397\u001B[0m \u001B[0;34m\u001B[0m\u001B[0m\n\u001B[0;32m--> 398\u001B[0;31m         \u001B[0merror\u001B[0m\u001B[0;34m,\u001B[0m \u001B[0mgrad\u001B[0m \u001B[0;34m=\u001B[0m \u001B[0mobjective\u001B[0m\u001B[0;34m(\u001B[0m\u001B[0mp\u001B[0m\u001B[0;34m,\u001B[0m \u001B[0;34m*\u001B[0m\u001B[0margs\u001B[0m\u001B[0;34m,\u001B[0m \u001B[0;34m**\u001B[0m\u001B[0mkwargs\u001B[0m\u001B[0;34m)\u001B[0m\u001B[0;34m\u001B[0m\u001B[0;34m\u001B[0m\u001B[0m\n\u001B[0m\u001B[1;32m    399\u001B[0m         \u001B[0mgrad_norm\u001B[0m \u001B[0;34m=\u001B[0m \u001B[0mlinalg\u001B[0m\u001B[0;34m.\u001B[0m\u001B[0mnorm\u001B[0m\u001B[0;34m(\u001B[0m\u001B[0mgrad\u001B[0m\u001B[0;34m)\u001B[0m\u001B[0;34m\u001B[0m\u001B[0;34m\u001B[0m\u001B[0m\n\u001B[1;32m    400\u001B[0m \u001B[0;34m\u001B[0m\u001B[0m\n",
      "\u001B[0;32m~/anaconda3/lib/python3.9/site-packages/sklearn/manifold/_t_sne.py\u001B[0m in \u001B[0;36m_kl_divergence_bh\u001B[0;34m(params, P, degrees_of_freedom, n_samples, n_components, angle, skip_num_points, verbose, compute_error, num_threads)\u001B[0m\n\u001B[1;32m    277\u001B[0m \u001B[0;34m\u001B[0m\u001B[0m\n\u001B[1;32m    278\u001B[0m     \u001B[0mgrad\u001B[0m \u001B[0;34m=\u001B[0m \u001B[0mnp\u001B[0m\u001B[0;34m.\u001B[0m\u001B[0mzeros\u001B[0m\u001B[0;34m(\u001B[0m\u001B[0mX_embedded\u001B[0m\u001B[0;34m.\u001B[0m\u001B[0mshape\u001B[0m\u001B[0;34m,\u001B[0m \u001B[0mdtype\u001B[0m\u001B[0;34m=\u001B[0m\u001B[0mnp\u001B[0m\u001B[0;34m.\u001B[0m\u001B[0mfloat32\u001B[0m\u001B[0;34m)\u001B[0m\u001B[0;34m\u001B[0m\u001B[0;34m\u001B[0m\u001B[0m\n\u001B[0;32m--> 279\u001B[0;31m     error = _barnes_hut_tsne.gradient(\n\u001B[0m\u001B[1;32m    280\u001B[0m         \u001B[0mval_P\u001B[0m\u001B[0;34m,\u001B[0m\u001B[0;34m\u001B[0m\u001B[0;34m\u001B[0m\u001B[0m\n\u001B[1;32m    281\u001B[0m         \u001B[0mX_embedded\u001B[0m\u001B[0;34m,\u001B[0m\u001B[0;34m\u001B[0m\u001B[0;34m\u001B[0m\u001B[0m\n",
      "\u001B[0;31mKeyboardInterrupt\u001B[0m: "
     ]
    }
   ],
   "source": [
    "import time\n",
    "from sklearn.manifold import TSNE\n",
    "\n",
    "tsne = TSNE(n_components=2, random_state=42)\n",
    "t0 = time.time()\n",
    "XE_reduced = tsne.fit_transform(XE)\n",
    "t1 = time.time()\n",
    "\n",
    "X_reduced = XE_reduced[:len(X)]\n",
    "E_reduced = XE_reduced[len(X):]\n",
    "\n",
    "t1 - t0"
   ],
   "metadata": {
    "collapsed": false
   }
  },
  {
   "cell_type": "code",
   "execution_count": null,
   "outputs": [],
   "source": [
    "plt.figure(figsize=(12, 8))\n",
    "plt.scatter(X_reduced[:, 0], X_reduced[:, 1], c=y, cmap='jet', marker='o', s=1.0)\n",
    "plt.colorbar()\n",
    "plt.axis('off')\n",
    "plt.show()"
   ],
   "metadata": {
    "collapsed": false
   }
  },
  {
   "cell_type": "code",
   "execution_count": null,
   "outputs": [],
   "source": [
    "plt.figure(figsize=(12, 8))\n",
    "plt.scatter(E_reduced[:, 0], E_reduced[:, 1], c=Ey, cmap='jet', marker='x', s=10.0)\n",
    "plt.colorbar()\n",
    "plt.axis('off')\n",
    "plt.show()"
   ],
   "metadata": {
    "collapsed": false
   }
  },
  {
   "cell_type": "code",
   "execution_count": null,
   "outputs": [],
   "source": [
    "from sklearn.neighbors import NearestNeighbors\n",
    "\n",
    "neigh = NearestNeighbors(n_neighbors=2)\n",
    "nbrs = neigh.fit(X)\n",
    "distances, indices = nbrs.kneighbors(X)\n",
    "\n",
    "distances = np.sort(distances, axis=0)\n",
    "distances = distances[:,1]\n",
    "plt.plot(distances)"
   ],
   "metadata": {
    "collapsed": false
   }
  },
  {
   "cell_type": "code",
   "execution_count": null,
   "outputs": [],
   "source": [
    "k = 4\n",
    "nbrs = NearestNeighbors(n_neighbors=k).fit(X)\n",
    "distances, indices = nbrs.kneighbors(X)\n",
    "\n",
    "# Sort the distances and plot them\n",
    "distances = np.sort(distances[:, k-1], axis=0)\n",
    "plt.plot(distances)\n",
    "\n",
    "# Find the elbow point\n",
    "x = np.arange(len(distances))\n",
    "eps_candidates = np.array([np.polyfit(x, distances, i)[-2] for i in range(1, 4)])\n",
    "eps = eps_candidates.mean()\n",
    "\n",
    "plt.xlabel(\"Points\")\n",
    "plt.ylabel(f\"{k}th nearest neighbor distance\")\n",
    "plt.show()\n",
    "\n",
    "# Use the elbow point as a starting value for min_samples\n",
    "min_samples = k - 1"
   ],
   "metadata": {
    "collapsed": false
   }
  },
  {
   "cell_type": "code",
   "execution_count": null,
   "outputs": [],
   "source": [
    "min_samples"
   ],
   "metadata": {
    "collapsed": false
   }
  },
  {
   "cell_type": "code",
   "execution_count": null,
   "outputs": [],
   "source": [
    "print(X.std(axis=0))\n",
    "print(X.mean(axis=0))"
   ],
   "metadata": {
    "collapsed": false
   }
  },
  {
   "cell_type": "code",
   "execution_count": null,
   "outputs": [],
   "source": [
    "\n",
    "from sklearn.cluster import DBSCAN, AgglomerativeClustering, KMeans\n",
    "from sklearn.mixture import GaussianMixture\n",
    "from sklearn.metrics.cluster import adjusted_mutual_info_score\n",
    "\n",
    "# km = AgglomerativeClustering(n_clusters=5, affinity='euclidean', linkage='ward')\n",
    "\n",
    "# mean = np.mean(X, axis=0)\n",
    "# std = np.std(X, axis=0)\n",
    "# init = np.repeat(mean.reshape((1, -1)), 5, axis=0)\n",
    "# init[1:] += np.random.random_sample(init[1:].shape) / std\n",
    "km = KMeans(n_clusters=100)\n",
    "# km = KMeans(init=init, n_clusters=init.shape[0])\n",
    "A_kl = km.fit_predict(X, )\n",
    "# km.fit(X)\n",
    "\n",
    "# km = DBSCAN(eps=0.0125, min_samples=100)\n",
    "# # A_kl = km.fit_predict((X - X.mean(axis=0))/(X - X.mean(axis=0)).std(axis=0))\n",
    "# A_kl = km.fit_predict(X)\n",
    "\n",
    "# gm = GaussianMixture(n_components=100).fit(X)\n",
    "# A_kl = gm.predict(X)\n",
    "print(A_kl.shape, y.shape)\n",
    "adjusted_mutual_info_score(A_kl, y)"
   ],
   "metadata": {
    "collapsed": false
   }
  },
  {
   "cell_type": "code",
   "execution_count": null,
   "outputs": [],
   "source": [
    "C = np.concatenate((E, X))\n",
    "# C = np.concatenate((E_reduced, X_reduced))\n",
    "\n"
   ],
   "metadata": {
    "collapsed": false
   }
  },
  {
   "cell_type": "code",
   "execution_count": null,
   "outputs": [],
   "source": [
    "# knn_labels = km.transform((C - X.mean(axis=0))/(X - X.mean(axis=0)).std(axis=0)).argmax(axis=1)\n",
    "# knn_labels = km.transform(C).argmax(axis=1)\n",
    "# A_kl = knn_labels[len(embedding):]\n",
    "# E_kl = knn_labels[:len(embedding)]\n",
    "# A_kl"
   ],
   "metadata": {
    "collapsed": false
   }
  },
  {
   "cell_type": "code",
   "execution_count": null,
   "outputs": [],
   "source": [
    "plt.figure(figsize=(12, 8))\n",
    "plt.scatter(X_reduced[:, 0], X_reduced[:, 1], c=A_kl, cmap='jet', marker='o', s=1.0)\n",
    "plt.colorbar()\n",
    "plt.axis('off')\n",
    "plt.show()"
   ],
   "metadata": {
    "collapsed": false
   }
  },
  {
   "cell_type": "code",
   "execution_count": null,
   "outputs": [],
   "source": [
    "plt.figure(figsize=(12, 8))\n",
    "plt.scatter(X_reduced[:, 0], X_reduced[:, 1], c=y, cmap='jet', marker='o', s=1.0)\n",
    "plt.colorbar()\n",
    "plt.axis('off')\n",
    "plt.show()"
   ],
   "metadata": {
    "collapsed": false
   }
  },
  {
   "cell_type": "code",
   "execution_count": null,
   "outputs": [],
   "source": [
    "C.mean(axis=1)"
   ],
   "metadata": {
    "collapsed": false
   }
  },
  {
   "cell_type": "code",
   "execution_count": null,
   "outputs": [],
   "source": [
    "cifar100classes = \"\"\"aquatic mammals \tbeaver, dolphin, otter, seal, whale\n",
    "fish \taquarium fish, flatfish, ray, shark, trout\n",
    "flowers \torchids, poppies, roses, sunflowers, tulips\n",
    "food containers \tbottles, bowls, cans, cups, plates\n",
    "fruit and vegetables \tapples, mushrooms, oranges, pears, sweet peppers\n",
    "household electrical devices \tclock, computer keyboard, lamp, telephone, television\n",
    "household furniture \tbed, chair, couch, table, wardrobe\n",
    "insects \tbee, beetle, butterfly, caterpillar, cockroach\n",
    "large carnivores \tbear, leopard, lion, tiger, wolf\n",
    "large man-made outdoor things \tbridge, castle, house, road, skyscraper\n",
    "large natural outdoor scenes \tcloud, forest, mountain, plain, sea\n",
    "large omnivores and herbivores \tcamel, cattle, chimpanzee, elephant, kangaroo\n",
    "medium-sized mammals \tfox, porcupine, possum, raccoon, skunk\n",
    "non-insect invertebrates \tcrab, lobster, snail, spider, worm\n",
    "people \tbaby, boy, girl, man, woman\n",
    "reptiles \tcrocodile, dinosaur, lizard, snake, turtle\n",
    "small mammals \thamster, mouse, rabbit, shrew, squirrel\n",
    "trees \tmaple, oak, palm, pine, willow\n",
    "vehicles 1 \tbicycle, bus, motorcycle, pickup truck, train\n",
    "vehicles 2 \tlawn-mower, rocket, streetcar, tank, tractor\"\"\"\n",
    "sep = list(map(lambda x: x.split('\\t'), cifar100classes.split('\\n')))\n",
    "superclass = list(s[0].strip() for s in sep)\n",
    "subclasses = list(list(map(lambda x: x.strip(), s[1].split(','))) for s in sep)\n",
    "cc = {k: v for k, v in zip(superclass, subclasses)}\n",
    "\n",
    "idxs = {k: list(label_names.index(n)\n",
    "                    if n in label_names\n",
    "                    else label_names.index(n[:-1].replace('poppie', 'poppy'))\n",
    "                for n in\n",
    "                list(l.replace(' ', '_').replace('computer_', '').replace('maple', 'maple_tree').replace('oak', 'oak_tree').replace('palm', 'palm_tree').replace('pine', 'pine_tree').replace('porcupine_tree', 'porcupine').replace('willow', 'willow_tree').replace('-', '_') for l in v)\n",
    "                # if n in label_names else\n",
    "                )\n",
    "for k, v in cc.items()}\n",
    "# idxs = {k: list(label_names.index(l.replace(' ', '_').replace('orchids', 'orchid').replace('poppies', 'poppy').replace('roses', 'rose').replace('sunflowers', 'sunflower').replace('tulips', 'tulip').replace('bottles', 'bottle').replace('bowls', 'bowl').replace('cans', 'can').replace('cups', 'cup').replace('plates', 'plate').replace('apples', 'apple').replace('mushrooms', 'mushroom').replace('oranges', 'orange')) for l in v) for k, v in cc.items()}\n",
    "rcc = {}\n",
    "i = 0\n",
    "for k, v in idxs.items():\n",
    "    print(i, k)\n",
    "    for idx in v:\n",
    "        rcc[idx] = i\n",
    "    i+=1\n",
    "y_sup = list(rcc[kk] for kk in y)\n"
   ],
   "metadata": {
    "collapsed": false
   }
  },
  {
   "cell_type": "code",
   "execution_count": null,
   "outputs": [],
   "source": [
    "plt.show()\n",
    "plt.figure(figsize=(12, 8))\n",
    "plt.scatter(X_reduced[:, 0], X_reduced[:, 1], c=y_sup, cmap='jet', marker='o', s=1.0)\n",
    "plt.colorbar()\n",
    "plt.axis('off')\n",
    "plt.show()"
   ],
   "metadata": {
    "collapsed": false
   }
  },
  {
   "cell_type": "code",
   "execution_count": null,
   "outputs": [],
   "source": [
    "plt.show()\n",
    "plt.figure(figsize=(12, 8))\n",
    "plt.scatter(X_reduced[:, 0], X_reduced[:, 1], c=y, cmap='jet', marker='o', s=1.0)\n",
    "plt.colorbar()\n",
    "plt.axis('off')\n",
    "plt.show()"
   ],
   "metadata": {
    "collapsed": false
   }
  },
  {
   "cell_type": "code",
   "execution_count": null,
   "outputs": [],
   "source": [
    "{k: list(label_names[i] for i in v) for k, v in idxs.items()}"
   ],
   "metadata": {
    "collapsed": false
   }
  }
 ],
 "metadata": {
  "kernelspec": {
   "display_name": "Python 3",
   "language": "python",
   "name": "python3"
  },
  "language_info": {
   "codemirror_mode": {
    "name": "ipython",
    "version": 2
   },
   "file_extension": ".py",
   "mimetype": "text/x-python",
   "name": "python",
   "nbconvert_exporter": "python",
   "pygments_lexer": "ipython2",
   "version": "2.7.6"
  }
 },
 "nbformat": 4,
 "nbformat_minor": 0
}
